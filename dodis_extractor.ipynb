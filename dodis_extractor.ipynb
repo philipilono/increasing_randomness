{
  "nbformat": 4,
  "nbformat_minor": 0,
  "metadata": {
    "colab": {
      "provenance": [],
      "authorship_tag": "ABX9TyNAuXFNWb96nM/s2qp5n3IM",
      "include_colab_link": true
    },
    "kernelspec": {
      "name": "python3",
      "display_name": "Python 3"
    },
    "language_info": {
      "name": "python"
    }
  },
  "cells": [
    {
      "cell_type": "markdown",
      "metadata": {
        "id": "view-in-github",
        "colab_type": "text"
      },
      "source": [
        "<a href=\"https://colab.research.google.com/github/philipilono/increasing_randomness/blob/main/dodis_extractor.ipynb\" target=\"_parent\"><img src=\"https://colab.research.google.com/assets/colab-badge.svg\" alt=\"Open In Colab\"/></a>"
      ]
    },
    {
      "cell_type": "code",
      "source": [
        "import math\n",
        "import numpy as np\n",
        "from scipy.fft import fft, ifft\n",
        "import matplotlib.pyplot as plt\n",
        "import seaborn as sns"
      ],
      "metadata": {
        "id": "WroaqFEfMUiD"
      },
      "execution_count": null,
      "outputs": []
    },
    {
      "cell_type": "code",
      "source": [
        "with open('quantum_bitstring.txt', 'r') as file:\n",
        "  txt = file.read().strip()\n",
        "  bits1 = np.array([int(bit) for bit in txt])\n",
        "  #file.write(''.join(str(bit) for row in bits1 for bit in row))\n",
        "with open('quantum_bitstring_2.txt', 'r') as file:\n",
        "  txt2 = file.read().strip()\n",
        "  bits2 =  np.array([int(bit) for bit in txt2])"
      ],
      "metadata": {
        "id": "YLfteYr4MVLD"
      },
      "execution_count": null,
      "outputs": []
    },
    {
      "cell_type": "code",
      "source": [
        "print(len(bits1))\n",
        "print(len(bits2))\n",
        "# bits2 = bits2[:-1]\n",
        "# print(len(bits2))"
      ],
      "metadata": {
        "colab": {
          "base_uri": "https://localhost:8080/"
        },
        "id": "c6qudp8gMXhD",
        "outputId": "dc8c3aad-6182-4af3-ab1b-5fa25d5f79ff"
      },
      "execution_count": null,
      "outputs": [
        {
          "output_type": "stream",
          "name": "stdout",
          "text": [
            "2540000\n",
            "2540000\n"
          ]
        }
      ]
    },
    {
      "cell_type": "code",
      "source": [
        "print(len(bits1))\n",
        "print(len(bits1.flatten()))\n",
        "#print(len(bits1.tolist()[0]))"
      ],
      "metadata": {
        "colab": {
          "base_uri": "https://localhost:8080/"
        },
        "id": "6H6OsHWiMdfz",
        "outputId": "8f9d93d1-ca6e-4fef-af83-c970b2a1128f"
      },
      "execution_count": null,
      "outputs": [
        {
          "output_type": "stream",
          "name": "stdout",
          "text": [
            "2540000\n",
            "2540000\n"
          ]
        }
      ]
    },
    {
      "cell_type": "code",
      "source": [
        "# set security parameter\n",
        "power = 8\n",
        "eps = 10**(-power)\n",
        "##### Changed eps to be a power of 2, rather than of 10. #####\n",
        "print(f\"Security parameter: {eps}.\")\n",
        "\n",
        "# # set number of output bits\n",
        "# m = 1200\n",
        "# print(f\"Desired output length: {m} bits.\")\n",
        "\n",
        "# set min-entropy rates for sources\n",
        "alpha_1 = 0.809031\n",
        "print(f\"Min-entropy rate of first source: {alpha_1}.\")\n",
        "alpha_2 = 0.824166\n",
        "print(f\"Min-entropy rate of second source: {alpha_2}\")\n",
        "\n",
        "# Set input length (assuming both inputs are the same length)\n",
        "n = len(bits1.flatten())\n",
        "\n",
        "# Calculate output length, m, for the modified Toeplitz extractor\n",
        "m = int(np.floor(n * (alpha_1 + alpha_2 - 1) + 1 - 2 * power))\n",
        "if m <= 0:\n",
        "    print('''Output length is 0. Increase min-entropy of either input.''')\n",
        "\n",
        "print(f\"Output length: {m} bits.\")\n",
        "# required number of input bits (for each source)\n",
        "# n = math.floor((m-1-2*math.log2(eps))\n",
        "#     /(k_1+k_2-1))\n",
        "# print(f\"Required length of each input source: {n} bits.\")"
      ],
      "metadata": {
        "colab": {
          "base_uri": "https://localhost:8080/"
        },
        "id": "mg1OUvkGMg2L",
        "outputId": "ba21df54-7bcb-4ac8-801e-b730cc4bf499"
      },
      "execution_count": null,
      "outputs": [
        {
          "output_type": "stream",
          "name": "stdout",
          "text": [
            "Security parameter: 1e-08.\n",
            "Min-entropy rate of first source: 0.809031.\n",
            "Min-entropy rate of second source: 0.824166\n",
            "Output length: 1608305 bits.\n"
          ]
        }
      ]
    },
    {
      "cell_type": "code",
      "source": [
        "import cryptomite\n",
        "\n",
        "dodis = cryptomite.Dodis(n, m)\n",
        "final_output = dodis.extract(bits1.flatten(), bits2.flatten())"
      ],
      "metadata": {
        "id": "pnaqAw9yMlPb"
      },
      "execution_count": null,
      "outputs": []
    },
    {
      "cell_type": "code",
      "source": [
        "num_0 = sum(1 for elem in final_output if elem == 0)\n",
        "num_1 = sum(1 for elem in final_output if elem == 1)\n",
        "\n",
        "counts = [num_0, num_1]\n",
        "\n",
        "plt.bar([\"0\",\"1\"], counts)\n",
        "plt.show()"
      ],
      "metadata": {
        "colab": {
          "base_uri": "https://localhost:8080/",
          "height": 430
        },
        "id": "icHx7HeeMnDD",
        "outputId": "7c2558f0-e6b6-4ba6-a923-14589b3bb273"
      },
      "execution_count": null,
      "outputs": [
        {
          "output_type": "display_data",
          "data": {
            "text/plain": [
              "<Figure size 640x480 with 1 Axes>"
            ],
            "image/png": "[encoded data removed]"
          },
          "metadata": {}
        }
      ]
    },
    {
      "cell_type": "code",
      "source": [
        "print(len(final_output))"
      ],
      "metadata": {
        "colab": {
          "base_uri": "https://localhost:8080/"
        },
        "id": "NT02OttGN-0S",
        "outputId": "1df11558-e158-44b8-c6e6-cf390d832ba8"
      },
      "execution_count": null,
      "outputs": [
        {
          "output_type": "stream",
          "name": "stdout",
          "text": [
            "1608305\n"
          ]
        }
      ]
    }
  ]
}