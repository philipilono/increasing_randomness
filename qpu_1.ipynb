{
  "nbformat": 4,
  "nbformat_minor": 0,
  "metadata": {
    "colab": {
      "provenance": []
    },
    "kernelspec": {
      "name": "python3",
      "display_name": "Python 3"
    },
    "language_info": {
      "name": "python"
    }
  },
  "cells": [
    {
      "cell_type": "code",
      "source": [
        "import numpy as np\n",
        "from qiskit import QuantumCircuit, transpile\n",
        "from qiskit_aer import Aer\n",
        "from qiskit.providers.basic_provider import BasicProvider\n",
        "from qiskit.visualization import plot_histogram\n",
        "from getpass import getpass\n",
        "from qiskit_ibm_runtime import QiskitRuntimeService"
      ],
      "metadata": {
        "id": "fc8lf_PEYpxq"
      },
      "execution_count": null,
      "outputs": []
    },
    {
      "cell_type": "code",
      "source": [
        "IQX_TOKEN = getpass()"
      ],
      "metadata": {
        "colab": {
          "base_uri": "https://localhost:8080/"
        },
        "id": "kqOWA7tFbxMA",
        "outputId": "4bc8384f-6103-4f4e-f69a-862610e3b4f3"
      },
      "execution_count": null,
      "outputs": [
        {
          "name": "stdout",
          "output_type": "stream",
          "text": [
            "··········\n"
          ]
        }
      ]
    },
    {
      "cell_type": "code",
      "source": [
        "service = QiskitRuntimeService(channel=\"ibm_quantum\", token= IQX_TOKEN, instance=\"ibm-q/open/main\")\n",
        "service.backends()"
      ],
      "metadata": {
        "colab": {
          "base_uri": "https://localhost:8080/"
        },
        "id": "wQQAdcLnZYOq",
        "outputId": "2910ebc9-1609-45e1-d1f3-052649290bbb"
      },
      "execution_count": null,
      "outputs": [
        {
          "output_type": "execute_result",
          "data": {
            "text/plain": [
              "[<IBMBackend('ibm_sherbrooke')>,\n",
              " <IBMBackend('ibm_brisbane')>,\n",
              " <IBMBackend('ibm_kyoto')>,\n",
              " <IBMBackend('ibm_osaka')>]"
            ]
          },
          "metadata": {},
          "execution_count": 13
        }
      ]
    },
    {
      "cell_type": "code",
      "source": [
        "backend = service.least_busy(operational=True, simulator=False, min_num_qubits=127)"
      ],
      "metadata": {
        "id": "UNr7zEfjbk4-"
      },
      "execution_count": null,
      "outputs": []
    },
    {
      "cell_type": "code",
      "source": [
        "n = 127\n",
        "qc = QuantumCircuit(n, n)\n",
        "\n",
        "qc.h(range(n))\n",
        "qc.measure(range(n), range(n))\n",
        "\n",
        "transpiled_qc = transpile(qc, backend)\n",
        "result = backend.run(transpiled_qc, shots=20000, memory=True).result()#.get_counts()\n",
        "counts = result.get_counts()"
      ],
      "metadata": {
        "colab": {
          "base_uri": "https://localhost:8080/"
        },
        "id": "miozMMvLcbjK",
        "outputId": "d2d1fe97-315e-4a55-f5e1-53977c6318ca"
      },
      "execution_count": null,
      "outputs": [
        {
          "output_type": "stream",
          "name": "stderr",
          "text": [
            "<ipython-input-15-f034e0bdf41f>:14: DeprecationWarning: backend.run() and related sessions methods are deprecated  as of qiskit-ibm-runtime 0.23 and will be removed no sooner than 6 months after the release date. More details can be found in the primitives migration guide https://docs.quantum.ibm.com/api/migration-guides/qiskit-runtime.\n",
            "  result = backend.run(transpiled_qc, shots=20000, memory=True).result()#.get_counts()\n"
          ]
        }
      ]
    },
    {
      "cell_type": "code",
      "source": [
        "binary_strings = result.get_memory(qc)\n",
        "long_string = ''.join(binary_strings)"
      ],
      "metadata": {
        "id": "OlFvJdf6dfGY"
      },
      "execution_count": null,
      "outputs": []
    },
    {
      "cell_type": "code",
      "source": [
        "print(len(''.join(result.get_memory(qc))))"
      ],
      "metadata": {
        "colab": {
          "base_uri": "https://localhost:8080/"
        },
        "id": "RwfVAE9jgY3f",
        "outputId": "b3982226-efb6-4028-dfd7-78a9cfbbf0ed"
      },
      "execution_count": null,
      "outputs": [
        {
          "output_type": "stream",
          "name": "stdout",
          "text": [
            "2540000\n"
          ]
        }
      ]
    },
    {
      "cell_type": "code",
      "source": [
        "concat_list = ''.join(result.get_memory(qc))\n",
        "#print(concat_list)\n",
        "\n",
        "# print(sum(int(output) for elem in output if elem == '0'))\n",
        "num_0 = sum(1 for elem in concat_list if '0' in elem)\n",
        "num_1 = sum(1 for elem in concat_list if '1' in elem)\n",
        "\n",
        "print(num_0)\n",
        "print(num_1)\n",
        "\n",
        "prop = num_0/len(concat_list)\n",
        "print(\"Proportion of 0s:\", prop)"
      ],
      "metadata": {
        "colab": {
          "base_uri": "https://localhost:8080/"
        },
        "id": "9r5PDaO_dIex",
        "outputId": "280454fd-ea09-442b-dce1-0bcc40a56184"
      },
      "execution_count": null,
      "outputs": [
        {
          "output_type": "stream",
          "name": "stdout",
          "text": [
            "1260872\n",
            "1279128\n",
            "Proportion of 0s: 0.49640629921259843\n"
          ]
        }
      ]
    },
    {
      "cell_type": "code",
      "source": [
        "with open('quantum_bitstring.txt', 'w') as file:\n",
        "    file.write(long_string)"
      ],
      "metadata": {
        "id": "xxXJadxLdNBi"
      },
      "execution_count": null,
      "outputs": []
    }
  ]
}