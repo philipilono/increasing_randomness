{
  "nbformat": 4,
  "nbformat_minor": 0,
  "metadata": {
    "colab": {
      "provenance": [],
      "authorship_tag": "ABX9TyP6wgwM7h8JboEM39EBd04d",
      "include_colab_link": true
    },
    "kernelspec": {
      "name": "python3",
      "display_name": "Python 3"
    },
    "language_info": {
      "name": "python"
    }
  },
  "cells": [
    {
      "cell_type": "markdown",
      "metadata": {
        "id": "view-in-github",
        "colab_type": "text"
      },
      "source": [
        "<a href=\"https://colab.research.google.com/github/philipilono/increasing_randomness/blob/main/marioberta_approach.ipynb\" target=\"_parent\"><img src=\"https://colab.research.google.com/assets/colab-badge.svg\" alt=\"Open In Colab\"/></a>"
      ]
    },
    {
      "cell_type": "code",
      "source": [
        "import math\n",
        "import numpy as np\n",
        "from scipy.fft import fft, ifft\n",
        "import matplotlib.pyplot as plt\n",
        "import seaborn as sns"
      ],
      "metadata": {
        "id": "Y1F_F-aNbYGM"
      },
      "execution_count": null,
      "outputs": []
    },
    {
      "cell_type": "code",
      "source": [
        "with open('quantum_bitstring.txt', 'r') as file:\n",
        "  txt = file.read().strip()\n",
        "  bits1 = np.array([int(bit) for bit in txt])\n",
        "  #file.write(''.join(str(bit) for row in bits1 for bit in row))\n",
        "with open('quantum_bitstring_2.txt', 'r') as file:\n",
        "  txt2 = file.read().strip()\n",
        "  bits2 =  np.array([int(bit) for bit in txt2])"
      ],
      "metadata": {
        "id": "30TeUAqmbZ7d"
      },
      "execution_count": null,
      "outputs": []
    },
    {
      "cell_type": "code",
      "source": [
        "print(len(bits1))\n",
        "print(len(bits2))\n",
        "# bits2 = bits2[:-1]\n",
        "# print(len(bits2))"
      ],
      "metadata": {
        "colab": {
          "base_uri": "https://localhost:8080/"
        },
        "id": "0FY2xQedcau7",
        "outputId": "cfb1fef4-a156-4ffb-d9ea-ef1917cec2f7"
      },
      "execution_count": null,
      "outputs": [
        {
          "output_type": "stream",
          "name": "stdout",
          "text": [
            "2540000\n",
            "2540000\n"
          ]
        }
      ]
    },
    {
      "cell_type": "code",
      "source": [
        "# set security parameter\n",
        "power = 8\n",
        "eps = 10**(-power)\n",
        "print(f\"Security parameter: {eps}.\")\n",
        "\n",
        "# set number of output bits\n",
        "#m = 1000\n",
        "\n",
        "\n",
        "# set min-entropy rates for sources\n",
        "k_1 = 0.809031\n",
        "print(f\"Min-entropy rate of first source: {k_1}.\")\n",
        "k_2 = 0.824166\n",
        "print(f\"Min-entropy rate of second source: {k_2}\")\n",
        "\n",
        "\n",
        "\n",
        "#m = int(np.floor(n * (k_1 + k_2 - 1) + 1 - 2 * power))\n",
        "n = len(bits1)\n",
        "# required number of input bits (for each source)\n",
        "# n = math.floor((m-1-2*math.log2(eps))\n",
        "#     /(k_1+k_2-1))\n",
        "\n",
        "#m = math.floor((k_1+k_2-n) +1 - 2*math.log2(eps))\n",
        "m = math.floor((n*k_1+n*k_2-n)\n",
        "           +1 - 2*math.log2(eps))\n",
        "print(f\"Desired output length: {m} bits.\")\n",
        "print(f\"Required length of each input source: {n} bits.\")\n"
      ],
      "metadata": {
        "colab": {
          "base_uri": "https://localhost:8080/"
        },
        "id": "WEkqRJgNdl61",
        "outputId": "0a944ab0-e05e-4bc4-e52a-b33b6277cb6c"
      },
      "execution_count": null,
      "outputs": [
        {
          "output_type": "stream",
          "name": "stdout",
          "text": [
            "Security parameter: 1e-08.\n",
            "Min-entropy rate of first source: 0.809031.\n",
            "Min-entropy rate of second source: 0.824166\n",
            "Desired output length: 1608374 bits.\n",
            "Required length of each input source: 2540000 bits.\n"
          ]
        }
      ]
    },
    {
      "cell_type": "code",
      "source": [
        "array_one = bits1.reshape(1, n)\n",
        "array_two = bits2.reshape(1, n)"
      ],
      "metadata": {
        "id": "_U9i8BQkft7t"
      },
      "execution_count": null,
      "outputs": []
    },
    {
      "cell_type": "code",
      "source": [
        "array_two_under = np.array(array_two[0,0:n-m])[np.newaxis]\n",
        "zero_vector = np.zeros((1,n+m-3), dtype=int)\n",
        "array_two_zeros = np.hstack((array_two_under,zero_vector))\n",
        "array_two_over = array_two[0,n-m:n][np.newaxis]\n",
        "array_one_merged = np.zeros((1,2*n-3), dtype=int)\n",
        "for i in range(m):\n",
        "    array_one_merged[0,i] = array_one[0,m-1-i]\n",
        "for j in range(n-m-1):\n",
        "    array_one_merged[0,n+m-2+j] = array_one[0,n-2-j]"
      ],
      "metadata": {
        "id": "0J-3-PUUfjKz"
      },
      "execution_count": null,
      "outputs": []
    },
    {
      "cell_type": "code",
      "source": [
        "print(array_two_over.shape)"
      ],
      "metadata": {
        "colab": {
          "base_uri": "https://localhost:8080/"
        },
        "id": "ZwuNTJKWg7qx",
        "outputId": "2f39653c-9f28-4c4f-b28c-5521ece0c0ed"
      },
      "execution_count": null,
      "outputs": [
        {
          "output_type": "stream",
          "name": "stdout",
          "text": [
            "(1, 1608374)\n"
          ]
        }
      ]
    },
    {
      "cell_type": "code",
      "source": [
        "output_fft = np.around(ifft(fft(array_one_merged)*fft(array_two_zeros)).real)\n",
        "output_addition = output_fft[0,0:m] + array_two_over\n",
        "output_final = output_addition.astype(int) % 2\n",
        "print(f\"The {m} random output bits are:\\n{output_final}.\")"
      ],
      "metadata": {
        "colab": {
          "base_uri": "https://localhost:8080/"
        },
        "id": "0HazRYG_gnpH",
        "outputId": "4c513c6c-d425-48c9-d957-c58c6473bdc7"
      },
      "execution_count": null,
      "outputs": [
        {
          "output_type": "stream",
          "name": "stdout",
          "text": [
            "The 1608374 random output bits are:\n",
            "[[0 0 1 ... 0 1 1]].\n"
          ]
        }
      ]
    },
    {
      "cell_type": "code",
      "source": [
        "bits1"
      ],
      "metadata": {
        "colab": {
          "base_uri": "https://localhost:8080/"
        },
        "id": "KosMkmwMotDj",
        "outputId": "495f5606-1121-4b27-dba3-aa37ccd57da5"
      },
      "execution_count": null,
      "outputs": [
        {
          "output_type": "execute_result",
          "data": {
            "text/plain": [
              "array([1, 1, 1, ..., 1, 1, 1])"
            ]
          },
          "metadata": {},
          "execution_count": 28
        }
      ]
    },
    {
      "cell_type": "code",
      "source": [
        "output_final[0]"
      ],
      "metadata": {
        "colab": {
          "base_uri": "https://localhost:8080/"
        },
        "id": "eXwUK4t9o5L7",
        "outputId": "65dc70dc-e4e8-486c-f6f5-04e7ed0d7b1f"
      },
      "execution_count": null,
      "outputs": [
        {
          "output_type": "execute_result",
          "data": {
            "text/plain": [
              "array([0, 0, 1, ..., 0, 1, 1])"
            ]
          },
          "metadata": {},
          "execution_count": 30
        }
      ]
    },
    {
      "cell_type": "code",
      "source": [
        "print(len(output_final))\n",
        "print(output_final.shape)"
      ],
      "metadata": {
        "colab": {
          "base_uri": "https://localhost:8080/"
        },
        "id": "daDJ1AffoDhM",
        "outputId": "db5e2d6e-cc8b-4f8d-abe7-b52b4d8acd40"
      },
      "execution_count": null,
      "outputs": [
        {
          "output_type": "stream",
          "name": "stdout",
          "text": [
            "1\n",
            "(1, 1608374)\n"
          ]
        }
      ]
    }
  ]
}
