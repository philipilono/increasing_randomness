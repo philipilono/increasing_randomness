{
  "nbformat": 4,
  "nbformat_minor": 0,
  "metadata": {
    "colab": {
      "provenance": []
    },
    "kernelspec": {
      "name": "python3",
      "display_name": "Python 3"
    },
    "language_info": {
      "name": "python"
    }
  },
  "cells": [
    {
      "cell_type": "code",
      "source": [
        "import numpy as np\n",
        "from qiskit import QuantumCircuit, transpile\n",
        "from qiskit_aer import Aer\n",
        "from qiskit.providers.basic_provider import BasicProvider\n",
        "from qiskit.visualization import plot_histogram\n",
        "from getpass import getpass\n",
        "from qiskit_ibm_runtime import QiskitRuntimeService"
      ],
      "metadata": {
        "id": "fc8lf_PEYpxq"
      },
      "execution_count": null,
      "outputs": []
    },
    {
      "cell_type": "code",
      "source": [
        "IQX_TOKEN = getpass()"
      ],
      "metadata": {
        "colab": {
          "base_uri": "https://localhost:8080/"
        },
        "id": "kqOWA7tFbxMA",
        "outputId": "060f1f50-77c7-46f0-a45d-89e50a291ac6"
      },
      "execution_count": null,
      "outputs": [
        {
          "name": "stdout",
          "output_type": "stream",
          "text": [
            "··········\n"
          ]
        }
      ]
    },
    {
      "cell_type": "code",
      "source": [
        "service = QiskitRuntimeService(channel=\"ibm_quantum\", token= IQX_TOKEN, instance=\"ibm-q/open/main\")\n",
        "service.backends()"
      ],
      "metadata": {
        "colab": {
          "base_uri": "https://localhost:8080/"
        },
        "id": "wQQAdcLnZYOq",
        "outputId": "3a453715-c589-48e0-d8b6-635c2e79b57c"
      },
      "execution_count": null,
      "outputs": [
        {
          "output_type": "execute_result",
          "data": {
            "text/plain": [
              "[<IBMBackend('ibm_brisbane')>,\n",
              " <IBMBackend('ibm_kyoto')>,\n",
              " <IBMBackend('ibm_osaka')>,\n",
              " <IBMBackend('ibm_sherbrooke')>]"
            ]
          },
          "metadata": {},
          "execution_count": 4
        }
      ]
    },
    {
      "cell_type": "code",
      "source": [
        "backend = service.least_busy(operational=True, simulator=False, min_num_qubits=127)"
      ],
      "metadata": {
        "id": "UNr7zEfjbk4-"
      },
      "execution_count": null,
      "outputs": []
    },
    {
      "cell_type": "code",
      "source": [
        "n = 127\n",
        "qc = QuantumCircuit(n, n)\n",
        "\n",
        "qc.h(range(n))\n",
        "qc.measure(range(n), range(n))\n",
        "\n",
        "transpiled_qc = transpile(qc, backend)\n",
        "result = backend.run(transpiled_qc, shots=20000, memory=True).result()#.get_counts()\n",
        "counts = result.get_counts()"
      ],
      "metadata": {
        "colab": {
          "base_uri": "https://localhost:8080/"
        },
        "id": "miozMMvLcbjK",
        "outputId": "c2fdfccb-db82-4704-d8c5-b2f7c80e4e0b"
      },
      "execution_count": null,
      "outputs": [
        {
          "output_type": "stream",
          "name": "stderr",
          "text": [
            "<ipython-input-6-aec74d1493a8>:8: DeprecationWarning: backend.run() and related sessions methods are deprecated  as of qiskit-ibm-runtime 0.23 and will be removed no sooner than 6 months after the release date. More details can be found in the primitives migration guide https://docs.quantum.ibm.com/api/migration-guides/qiskit-runtime.\n",
            "  result = backend.run(transpiled_qc, shots=20000, memory=True).result()#.get_counts()\n"
          ]
        }
      ]
    },
    {
      "cell_type": "code",
      "source": [
        "# print(''.join(result.get_memory(qc)))\n",
        "binary_strings = result.get_memory(qc)\n",
        "long_string = ''.join(binary_strings)"
      ],
      "metadata": {
        "id": "OlFvJdf6dfGY"
      },
      "execution_count": null,
      "outputs": []
    },
    {
      "cell_type": "code",
      "source": [
        "print(counts)"
      ],
      "metadata": {
        "id": "sQPSD9ixiMtD"
      },
      "execution_count": null,
      "outputs": []
    },
    {
      "cell_type": "code",
      "source": [
        "print(len(''.join(result.get_memory(qc))))"
      ],
      "metadata": {
        "colab": {
          "base_uri": "https://localhost:8080/"
        },
        "id": "RwfVAE9jgY3f",
        "outputId": "ef451717-6c13-446f-ceb8-b9d027aeeae4"
      },
      "execution_count": null,
      "outputs": [
        {
          "output_type": "stream",
          "name": "stdout",
          "text": [
            "2540000\n"
          ]
        }
      ]
    },
    {
      "cell_type": "code",
      "source": [
        "concat_list = ''.join(result.get_memory(qc))\n",
        "#print(concat_list)\n",
        "\n",
        "# print(sum(int(output) for elem in output if elem == '0'))\n",
        "num_0 = sum(1 for elem in concat_list if '0' in elem)\n",
        "num_1 = sum(1 for elem in concat_list if '1' in elem)\n",
        "\n",
        "print(num_0)\n",
        "print(num_1)\n",
        "\n",
        "prop = num_0/len(concat_list)\n",
        "print(\"Proportion of 0s:\", prop)"
      ],
      "metadata": {
        "colab": {
          "base_uri": "https://localhost:8080/"
        },
        "id": "9r5PDaO_dIex",
        "outputId": "294b652f-be81-4df3-e9fb-0ff5bee88e61"
      },
      "execution_count": null,
      "outputs": [
        {
          "output_type": "stream",
          "name": "stdout",
          "text": [
            "1305147\n",
            "1234853\n",
            "Proportion of 0s: 0.5138374015748032\n"
          ]
        }
      ]
    },
    {
      "cell_type": "code",
      "source": [
        "with open('quantum_bitstring_2.txt', 'w') as file:\n",
        "    file.write(long_string)"
      ],
      "metadata": {
        "id": "xxXJadxLdNBi"
      },
      "execution_count": null,
      "outputs": []
    }
  ]
}